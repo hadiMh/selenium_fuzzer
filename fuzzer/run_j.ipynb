{
 "metadata": {
  "language_info": {
   "codemirror_mode": {
    "name": "ipython",
    "version": 3
   },
   "file_extension": ".py",
   "mimetype": "text/x-python",
   "name": "python",
   "nbconvert_exporter": "python",
   "pygments_lexer": "ipython3",
   "version": "3.9.5-final"
  },
  "orig_nbformat": 2,
  "kernelspec": {
   "name": "python39564bitautomatedwebsitefuzzytesterpipenv53fc7a26a87b459b977d893e2d43d489",
   "display_name": "Python 3.9.5 64-bit ('automated_website_fuzzy_tester': pipenv)"
  }
 },
 "nbformat": 4,
 "nbformat_minor": 2,
 "cells": [
  {
   "cell_type": "code",
   "execution_count": 1,
   "metadata": {},
   "outputs": [],
   "source": [
    "import sys\n",
    "import pickle\n",
    "\n",
    "from termcolor import colored\n",
    "\n",
    "from html_classes import WebPage\n",
    "from helpers import setup_driver, get_all_urls_of_file\n",
    "\n",
    "from collect_all_website_urls import find_all_urls_of_website\n",
    "from collect_forms import get_forms_of_all_pages_to_objs\n",
    "\n",
    "def phase_one(to_explore_urls, driver, explored_urls=None):\n",
    "    \"\"\"\n",
    "    Returns list of all urls of a website.\n",
    "\n",
    "    :param \n",
    "    \"\"\"\n",
    "\n",
    "    # try:\n",
    "    return find_all_urls_of_website(to_explore_urls, driver, explored_urls)\n",
    "    # except:\n",
    "    #     print(colored('Exception: Phase One Exception.', 'red'))\n",
    "\n",
    "\n",
    "    "
   ]
  },
  {
   "cell_type": "code",
   "execution_count": 2,
   "metadata": {},
   "outputs": [],
   "source": [
    "load_urls_from_file = False\n",
    "\n",
    "to_explore_urls = []\n",
    "explored_urls = []\n",
    "\n",
    "to_explore_urls = [\"atriya.com\"]\n",
    "\n",
    "# driver = setup_driver()\n",
    "from selenium import webdriver\n",
    "\n",
    "driver = webdriver.Chrome()"
   ]
  },
  {
   "cell_type": "code",
   "execution_count": 53,
   "metadata": {
    "tags": []
   },
   "outputs": [],
   "source": [
    "# explored_urls = phase_one(to_explore_urls, driver)"
   ]
  },
  {
   "cell_type": "code",
   "execution_count": 3,
   "metadata": {},
   "outputs": [
    {
     "output_type": "execute_result",
     "data": {
      "text/plain": [
       "13"
      ]
     },
     "metadata": {},
     "execution_count": 3
    }
   ],
   "source": [
    "all_file_explored_urls = get_all_urls_of_file()\n",
    "len(all_file_explored_urls)"
   ]
  },
  {
   "cell_type": "code",
   "execution_count": 4,
   "metadata": {},
   "outputs": [
    {
     "output_type": "stream",
     "name": "stdout",
     "text": [
      "Number of webpage objects: 13\n"
     ]
    }
   ],
   "source": [
    "webpages = get_forms_of_all_pages_to_objs(all_file_explored_urls, driver)\n",
    "print('Number of webpage objects:', len(webpages))"
   ]
  },
  {
   "cell_type": "code",
   "execution_count": 5,
   "metadata": {},
   "outputs": [
    {
     "output_type": "execute_result",
     "data": {
      "text/plain": [
       "13"
      ]
     },
     "metadata": {},
     "execution_count": 5
    }
   ],
   "source": [
    "len(webpages)"
   ]
  },
  {
   "cell_type": "code",
   "execution_count": 6,
   "metadata": {},
   "outputs": [],
   "source": [
    "with open('saved_data/urls_with_form.txt', 'w') as writer:\n",
    "    for webpage in webpages:\n",
    "        if webpage.number_of_forms > 0:\n",
    "            writer.write(webpage.page_url + '\\n')"
   ]
  },
  {
   "cell_type": "code",
   "execution_count": 7,
   "metadata": {},
   "outputs": [
    {
     "output_type": "stream",
     "name": "stdout",
     "text": [
      "____________________\n\n|\n\n(Page Url = https://www.fronthooks.ir/login)\n\n<form method=\"get\" action=\"https://www.fronthooks.ir/login\">\n\t<input type=\"text\" name=\"email\" ></input>\n\t<input type=\"password\" name=\"password\" ></input>\n\n\tNone\n</form>\n\n____________________\n____________________\n\n|\n\n(Page Url = https://www.fronthooks.ir/courses/flex-grid-course)\n\n<form method=\"get\" action=\"https://www.fronthooks.ir/courses/flex-grid-course\">\n\t\n\n\tNone\n</form>\n\n____________________\n____________________\n\n|\n\n(Page Url = https://www.fronthooks.ir/courses/react-course)\n\n<form method=\"get\" action=\"https://www.fronthooks.ir/courses/react-course\">\n\t\n\n\tNone\n</form>\n\n____________________\n____________________\n\n|\n\n(Page Url = https://www.fronthooks.ir/courses/advanced-javascript)\n\n<form method=\"get\" action=\"https://www.fronthooks.ir/courses/advanced-javascript\">\n\t\n\n\tNone\n</form>\n\n____________________\n____________________\n\n|\n\n(Page Url = https://www.fronthooks.ir/courses/git-github)\n\n<form method=\"get\" action=\"https://www.fronthooks.ir/courses/git-github\">\n\t\n\n\tNone\n</form>\n\n____________________\n____________________\n\n|\n\n(Page Url = https://www.fronthooks.ir/signup?redirect=/)\n\n<form method=\"get\" action=\"https://www.fronthooks.ir/signup?redirect=/\">\n\t<input type=\"text\" name=\"name\" ></input>\n\t<input type=\"text\" name=\"email\" ></input>\n\t<input type=\"text\" name=\"phoneNumber\" placeholder=\"09121234567\" ></input>\n\t<input type=\"password\" name=\"password\" ></input>\n\t<input type=\"password\" name=\"confirmPassword\" ></input>\n\n\tNone\n</form>\n\n____________________\n____________________\n\n|\n\n(Page Url = https://www.fronthooks.ir/signup?redirect=checkout)\n\n<form method=\"get\" action=\"https://www.fronthooks.ir/signup?redirect=checkout\">\n\t<input type=\"text\" name=\"name\" ></input>\n\t<input type=\"text\" name=\"email\" ></input>\n\t<input type=\"text\" name=\"phoneNumber\" placeholder=\"09121234567\" ></input>\n\t<input type=\"password\" name=\"password\" ></input>\n\t<input type=\"password\" name=\"confirmPassword\" ></input>\n\n\tNone\n</form>\n\n____________________\n"
     ]
    }
   ],
   "source": [
    "for webpage in webpages:\n",
    "    if webpage.number_of_forms > 0:\n",
    "        print(webpage)"
   ]
  },
  {
   "cell_type": "code",
   "execution_count": 49,
   "metadata": {},
   "outputs": [
    {
     "output_type": "stream",
     "name": "stdout",
     "text": [
      "text\n"
     ]
    },
    {
     "output_type": "execute_result",
     "data": {
      "text/plain": [
       "['hidden', 'email', 'password', 'submit', 'hidden']"
      ]
     },
     "metadata": {},
     "execution_count": 49
    }
   ],
   "source": [
    "print(webpages[0].forms[0].inputs_list[1].input_type)\n",
    "\n",
    "signup_page = list(filter(lambda webpage: 'register' in webpage.page_url.lower(), webpages))\n",
    "list(map(lambda input_obj: input_obj.input_type, signup_page[0].forms[0].inputs_list))"
   ]
  },
  {
   "cell_type": "code",
   "execution_count": 27,
   "metadata": {},
   "outputs": [],
   "source": [
    "# from html_classes import WebPage, Form, Input\n",
    "\n",
    "# with open('saved_data/webpage_objects.pickle', 'w') as webpage_objects_file:\n",
    "#         pickle.dump(webpages[0], webpage_objects_file)"
   ]
  },
  {
   "cell_type": "code",
   "execution_count": 36,
   "metadata": {},
   "outputs": [
    {
     "output_type": "stream",
     "name": "stdout",
     "text": [
      "(Page Url = http://www.atriya.com/Package/Details/%D8%A2%D9%85%D9%88%D8%B2%D8%B4-%D8%B7%D8%B1%D8%A7%D8%AD%DB%8C-%D8%B3%D8%A7%DB%8C%D8%AA-html-css)\n\n<form method=\"post\" action=\"http://www.atriya.com/Package/AddComment\">\n\t<input type=\"text\" name=\"name\" placeholder=\"نام و نام خانوادگی\" required ></input>\n\t<input type=\"text\" name=\"number\" placeholder=\"موبایل\" required ></input>\n\t<input type=\"hidden\" name=\"ParentId\" ></input>\n\t<input type=\"hidden\" name=\"OwnerRecordId\" ></input>\n\t<input type=\"hidden\" name=\"OwnerRecordSlug\" ></input>\n\t<input type=\"hidden\" name=\"__RequestVerificationToken\" ></input>\n\n\tNone\n</form>\n"
     ]
    }
   ],
   "source": [
    "a = list(filter(lambda webpage: webpage.number_of_forms>1, webpages))\n",
    "len(a)\n",
    "print(a[0].forms[0])"
   ]
  },
  {
   "cell_type": "code",
   "execution_count": 32,
   "metadata": {},
   "outputs": [
    {
     "output_type": "stream",
     "name": "stdout",
     "text": [
      "(Page Url = http://www.atriya.com/)\n\n<form method=\"post\" action=\"http://www.atriya.com/Home/Contact\">\n\t<input type=\"text\" name=\"Fullname\" placeholder=\"نام\" required ></input>\n\t<input type=\"text\" name=\"Mobile\" placeholder=\"شماره موبایل\" required ></input>\n\t<input type=\"hidden\" name=\"__RequestVerificationToken\" ></input>\n\n\t<input type=\"submit\" name=\"\" ></input>\n</form>\n"
     ]
    }
   ],
   "source": [
    "print(webpages[0].forms[0])"
   ]
  },
  {
   "cell_type": "code",
   "execution_count": null,
   "metadata": {},
   "outputs": [],
   "source": []
  }
 ]
}