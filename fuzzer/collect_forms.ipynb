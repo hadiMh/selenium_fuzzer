{
 "metadata": {
  "language_info": {
   "codemirror_mode": {
    "name": "ipython",
    "version": 3
   },
   "file_extension": ".py",
   "mimetype": "text/x-python",
   "name": "python",
   "nbconvert_exporter": "python",
   "pygments_lexer": "ipython3",
   "version": "3.9.5-final"
  },
  "orig_nbformat": 2,
  "kernelspec": {
   "name": "python39564bitautomatedwebsitefuzzytesterpipenv53fc7a26a87b459b977d893e2d43d489",
   "display_name": "Python 3.9.5 64-bit ('automated_website_fuzzy_tester': pipenv)"
  }
 },
 "nbformat": 4,
 "nbformat_minor": 2,
 "cells": [
  {
   "cell_type": "code",
   "execution_count": 1,
   "metadata": {},
   "outputs": [],
   "source": [
    "from selenium import webdriver\n",
    "from selenium.webdriver.common.keys import Keys\n",
    "from selenium.webdriver.common.desired_capabilities import DesiredCapabilities\n",
    "\n",
    "from html_classes import Form, Input, WebPage\n",
    "\n",
    "def setup_driver():\n",
    "    \"\"\"\n",
    "    Create a driver and Returns it.\n",
    "    When someone runs this python file this function helps them to have a new driver.\n",
    "    \"\"\"\n",
    "\n",
    "    # with these settings, loading of a webpage would be faster.\n",
    "    # because selenium won't wait for images to load and we don't need images.\n",
    "    caps = DesiredCapabilities().CHROME\n",
    "    caps[\"pageLoadStrategy\"] = \"eager\"\n",
    "\n",
    "    # creating driver.\n",
    "    driver = webdriver.Chrome(desired_capabilities=caps)\n",
    "\n",
    "    return driver\n",
    "\n",
    "\n",
    "def get_all_urls_of_file():\n",
    "    \"\"\"\n",
    "    Gets all the urls from the previous phases and creates a list of them.\n",
    "    Return this list of all the urls that have been found on last phases.\n",
    "    \"\"\"\n",
    "    all_found_urls = []\n",
    "    with open('all_explored_urls.txt', 'r') as file:\n",
    "        all_found_urls = file.readlines()\n",
    "\n",
    "        all_found_urls = list(\n",
    "            map(lambda url: url[:-1] if url[-1:] == '\\n' else url, all_found_urls))\n",
    "\n",
    "    return all_found_urls\n",
    "\n",
    "\n",
    "def get_forms_of_all_pages_to_objs(all_urls, driver):\n",
    "    \"\"\"\n",
    "    Explores all pages from the all_urls list.\n",
    "    Creates a WebPage object of each page and saves all the forms in it.\n",
    "    Returns the list of WebPage objects.\n",
    "    \"\"\"\n",
    "    all_web_pages_objs = []\n",
    "    for url in all_urls:\n",
    "        all_web_pages_objs.append(WebPage(url, driver=driver))\n",
    "\n",
    "    return all_web_pages_objs\n"
   ]
  },
  {
   "cell_type": "code",
   "execution_count": 2,
   "metadata": {},
   "outputs": [],
   "source": [
    "all_urls = ['http://www.google.com']\n",
    "all_urls = get_all_urls_of_file()\n",
    "\n",
    "all_urls = all_urls[1:]"
   ]
  },
  {
   "cell_type": "code",
   "execution_count": 3,
   "metadata": {},
   "outputs": [],
   "source": [
    "driver = setup_driver()"
   ]
  },
  {
   "cell_type": "code",
   "execution_count": 4,
   "metadata": {},
   "outputs": [],
   "source": [
    "# from html_classes import Form, Input, WebPage\n",
    "\n",
    "webpages = get_forms_of_all_pages_to_objs(all_urls, driver)"
   ]
  },
  {
   "cell_type": "code",
   "execution_count": 5,
   "metadata": {},
   "outputs": [
    {
     "output_type": "execute_result",
     "data": {
      "text/plain": [
       "38"
      ]
     },
     "metadata": {},
     "execution_count": 5
    }
   ],
   "source": [
    "len(webpages)"
   ]
  },
  {
   "cell_type": "code",
   "execution_count": 6,
   "metadata": {},
   "outputs": [
    {
     "output_type": "execute_result",
     "data": {
      "text/plain": [
       "38"
      ]
     },
     "metadata": {},
     "execution_count": 6
    }
   ],
   "source": [
    "some_urls = [webpage.page_url for webpage in webpages]\n",
    "len(some_urls)"
   ]
  },
  {
   "cell_type": "code",
   "execution_count": 69,
   "metadata": {},
   "outputs": [],
   "source": [
    "webpages = get_forms_of_all_pages_to_objs(some_urls, driver)"
   ]
  },
  {
   "cell_type": "code",
   "execution_count": 7,
   "metadata": {
    "tags": [
     "outputPrepend"
    ]
   },
   "outputs": [
    {
     "output_type": "stream",
     "name": "stdout",
     "text": [
      "en\" ></input>\n\n\t<input type=\"submit\" name=\"\" ></input>\n</form>\n\n____________________\n____________________\n\n|\n\n(Page Url = http://www.atriya.com/Package)\n\n<form method=\"post\" action=\"http://www.atriya.com/Home/Contact\">\n\t<input type=\"text\" name=\"Fullname\" placeholder=\"نام\" required ></input>\n\t<input type=\"text\" name=\"Mobile\" placeholder=\"شماره موبایل\" required ></input>\n\t<input type=\"hidden\" name=\"__RequestVerificationToken\" ></input>\n\n\t<input type=\"submit\" name=\"\" ></input>\n</form>\n\n____________________\n____________________\n\n|\n\n(Page Url = http://www.atriya.com/Account)\n\n<form method=\"post\" action=\"http://www.atriya.com/Account/Login\">\n\t<input type=\"hidden\" name=\"RedirectUrl\" ></input>\n\t<input type=\"email\" name=\"Email\" placeholder=\"ایمیل\" required ></input>\n\t<input type=\"password\" name=\"Password\" placeholder=\"رمز عبور\" required ></input>\n\t<input type=\"hidden\" name=\"__RequestVerificationToken\" ></input>\n\n\t<input type=\"submit\" name=\"\" ></input>\n</form>\n\n(Page Url = http://www.atriya.com/Account)\n\n<form method=\"post\" action=\"http://www.atriya.com/Account/Register\">\n\t<input type=\"hidden\" name=\"RedirectUrl\" ></input>\n\t<input type=\"text\" name=\"Fullname\" placeholder=\"نام و نام خانوادگی\" required ></input>\n\t<input type=\"email\" name=\"Email\" placeholder=\"ایمیل\" required ></input>\n\t<input type=\"text\" name=\"Mobile\" placeholder=\"موبایل\" required ></input>\n\t<input type=\"text\" name=\"City\" placeholder=\"شهر\" required ></input>\n\t<input type=\"password\" name=\"Password\" placeholder=\"رمز عبور\" required ></input>\n\t<input type=\"hidden\" name=\"__RequestVerificationToken\" ></input>\n\n\t<input type=\"submit\" name=\"\" ></input>\n</form>\n\n(Page Url = http://www.atriya.com/Account)\n\n<form method=\"post\" action=\"http://www.atriya.com/Home/Contact\">\n\t<input type=\"text\" name=\"Fullname\" placeholder=\"نام\" required ></input>\n\t<input type=\"text\" name=\"Mobile\" placeholder=\"شماره موبایل\" required ></input>\n\t<input type=\"hidden\" name=\"__RequestVerificationToken\" ></input>\n\n\t<input type=\"submit\" name=\"\" ></input>\n</form>\n\n____________________\n____________________\n\n|\n\n(Page Url = http://www.atriya.com/Course)\n\n<form method=\"post\" action=\"http://www.atriya.com/Home/Contact\">\n\t<input type=\"text\" name=\"Fullname\" placeholder=\"نام\" required ></input>\n\t<input type=\"text\" name=\"Mobile\" placeholder=\"شماره موبایل\" required ></input>\n\t<input type=\"hidden\" name=\"__RequestVerificationToken\" ></input>\n\n\t<input type=\"submit\" name=\"\" ></input>\n</form>\n\n____________________\n____________________\n\n|\n\n(Page Url = http://www.atriya.com/Package/Details/%D8%A2%D9%85%D9%88%D8%B2%D8%B4-asp-net-core-mvc)\n\n<form method=\"post\" action=\"http://www.atriya.com/Package/AddComment\">\n\t<input type=\"text\" name=\"name\" placeholder=\"نام و نام خانوادگی\" required ></input>\n\t<input type=\"text\" name=\"number\" placeholder=\"موبایل\" required ></input>\n\t<input type=\"hidden\" name=\"ParentId\" ></input>\n\t<input type=\"hidden\" name=\"OwnerRecordId\" ></input>\n\t<input type=\"hidden\" name=\"OwnerRecordSlug\" ></input>\n\t<input type=\"hidden\" name=\"__RequestVerificationToken\" ></input>\n\n\tNone\n</form>\n\n(Page Url = http://www.atriya.com/Package/Details/%D8%A2%D9%85%D9%88%D8%B2%D8%B4-asp-net-core-mvc)\n\n<form method=\"post\" action=\"http://www.atriya.com/Home/Contact\">\n\t<input type=\"text\" name=\"Fullname\" placeholder=\"نام\" required ></input>\n\t<input type=\"text\" name=\"Mobile\" placeholder=\"شماره موبایل\" required ></input>\n\t<input type=\"hidden\" name=\"__RequestVerificationToken\" ></input>\n\n\t<input type=\"submit\" name=\"\" ></input>\n</form>\n\n____________________\n____________________\n\n|\n\n(Page Url = http://www.atriya.com/Blog/CategoryDetails/%D8%A2%D9%85%D9%88%D8%B2%D8%B4-c)\n\n<form method=\"post\" action=\"http://www.atriya.com/Home/Contact\">\n\t<input type=\"text\" name=\"Fullname\" placeholder=\"نام\" required ></input>\n\t<input type=\"text\" name=\"Mobile\" placeholder=\"شماره موبایل\" required ></input>\n\t<input type=\"hidden\" name=\"__RequestVerificationToken\" ></input>\n\n\t<input type=\"submit\" name=\"\" ></input>\n</form>\n\n____________________\n____________________\n\n|\n\n(Page Url = http://www.atriya.com/Blog/CategoryDetails/%D8%AF%DB%8C%DA%AF%D8%B1-%D8%A2%D9%85%D9%88%D8%B2%D8%B4-%D9%87%D8%A7)\n\n<form method=\"post\" action=\"http://www.atriya.com/Home/Contact\">\n\t<input type=\"text\" name=\"Fullname\" placeholder=\"نام\" required ></input>\n\t<input type=\"text\" name=\"Mobile\" placeholder=\"شماره موبایل\" required ></input>\n\t<input type=\"hidden\" name=\"__RequestVerificationToken\" ></input>\n\n\t<input type=\"submit\" name=\"\" ></input>\n</form>\n\n____________________\n____________________\n\n|\n\n(Page Url = http://www.atriya.com/Blog/CategoryDetails/%D8%A2%D9%85%D9%88%D8%B2%D8%B4-html)\n\n<form method=\"post\" action=\"http://www.atriya.com/Home/Contact\">\n\t<input type=\"text\" name=\"Fullname\" placeholder=\"نام\" required ></input>\n\t<input type=\"text\" name=\"Mobile\" placeholder=\"شماره موبایل\" required ></input>\n\t<input type=\"hidden\" name=\"__RequestVerificationToken\" ></input>\n\n\t<input type=\"submit\" name=\"\" ></input>\n</form>\n\n____________________\n____________________\n\n|\n\n(Page Url = http://www.atriya.com/Blog/CategoryDetails/%D8%A2%D9%85%D9%88%D8%B2%D8%B4-%D8%AA%D8%B3%D8%AA-%D9%86%D8%B1%D9%85-%D8%A7%D9%81%D8%B2%D8%A7%D8%B1)\n\n<form method=\"post\" action=\"http://www.atriya.com/Home/Contact\">\n\t<input type=\"text\" name=\"Fullname\" placeholder=\"نام\" required ></input>\n\t<input type=\"text\" name=\"Mobile\" placeholder=\"شماره موبایل\" required ></input>\n\t<input type=\"hidden\" name=\"__RequestVerificationToken\" ></input>\n\n\t<input type=\"submit\" name=\"\" ></input>\n</form>\n\n____________________\n____________________\n\n|\n\n(Page Url = http://www.atriya.com/Blog/CategoryDetails/%D8%A2%D9%85%D9%88%D8%B2%D8%B4-jquery)\n\n<form method=\"post\" action=\"http://www.atriya.com/Home/Contact\">\n\t<input type=\"text\" name=\"Fullname\" placeholder=\"نام\" required ></input>\n\t<input type=\"text\" name=\"Mobile\" placeholder=\"شماره موبایل\" required ></input>\n\t<input type=\"hidden\" name=\"__RequestVerificationToken\" ></input>\n\n\t<input type=\"submit\" name=\"\" ></input>\n</form>\n\n____________________\n____________________\n\n|\n\n(Page Url = http://www.atriya.com/Blog/CategoryDetails/%D8%A2%D9%85%D9%88%D8%B2%D8%B4-angular)\n\n<form method=\"post\" action=\"http://www.atriya.com/Home/Contact\">\n\t<input type=\"text\" name=\"Fullname\" placeholder=\"نام\" required ></input>\n\t<input type=\"text\" name=\"Mobile\" placeholder=\"شماره موبایل\" required ></input>\n\t<input type=\"hidden\" name=\"__RequestVerificationToken\" ></input>\n\n\t<input type=\"submit\" name=\"\" ></input>\n</form>\n\n____________________\n____________________\n\n|\n\n(Page Url = http://www.atriya.com/Blog/CategoryDetails/entity-framework-core)\n\n<form method=\"post\" action=\"http://www.atriya.com/Home/Contact\">\n\t<input type=\"text\" name=\"Fullname\" placeholder=\"نام\" required ></input>\n\t<input type=\"text\" name=\"Mobile\" placeholder=\"شماره موبایل\" required ></input>\n\t<input type=\"hidden\" name=\"__RequestVerificationToken\" ></input>\n\n\t<input type=\"submit\" name=\"\" ></input>\n</form>\n\n____________________\n____________________\n\n|\n\n(Page Url = http://www.atriya.com/Blog/CategoryDetails/domain-driven-design)\n\n<form method=\"post\" action=\"http://www.atriya.com/Home/Contact\">\n\t<input type=\"text\" name=\"Fullname\" placeholder=\"نام\" required ></input>\n\t<input type=\"text\" name=\"Mobile\" placeholder=\"شماره موبایل\" required ></input>\n\t<input type=\"hidden\" name=\"__RequestVerificationToken\" ></input>\n\n\t<input type=\"submit\" name=\"\" ></input>\n</form>\n\n____________________\n____________________\n\n|\n\n(Page Url = http://www.atriya.com/Blog/CategoryDetails/%D8%A2%D9%85%D9%88%D8%B2%D8%B4-design-pattern)\n\n<form method=\"post\" action=\"http://www.atriya.com/Home/Contact\">\n\t<input type=\"text\" name=\"Fullname\" placeholder=\"نام\" required ></input>\n\t<input type=\"text\" name=\"Mobile\" placeholder=\"شماره موبایل\" required ></input>\n\t<input type=\"hidden\" name=\"__RequestVerificationToken\" ></input>\n\n\t<input type=\"submit\" name=\"\" ></input>\n</form>\n\n____________________\n____________________\n\n|\n\n(Page Url = http://www.atriya.com/Blog/CategoryDetails/%D8%A2%D9%85%D9%88%D8%B2%D8%B4-web-design)\n\n<form method=\"post\" action=\"http://www.atriya.com/Home/Contact\">\n\t<input type=\"text\" name=\"Fullname\" placeholder=\"نام\" required ></input>\n\t<input type=\"text\" name=\"Mobile\" placeholder=\"شماره موبایل\" required ></input>\n\t<input type=\"hidden\" name=\"__RequestVerificationToken\" ></input>\n\n\t<input type=\"submit\" name=\"\" ></input>\n</form>\n\n____________________\n____________________\n\n|\n\n(Page Url = http://www.atriya.com/Blog/CategoryDetails/%D8%A2%D9%85%D9%88%D8%B2%D8%B4-%DA%A9%D8%A7%D8%B1-%D8%A8%D8%A7-sass)\n\n<form method=\"post\" action=\"http://www.atriya.com/Home/Contact\">\n\t<input type=\"text\" name=\"Fullname\" placeholder=\"نام\" required ></input>\n\t<input type=\"text\" name=\"Mobile\" placeholder=\"شماره موبایل\" required ></input>\n\t<input type=\"hidden\" name=\"__RequestVerificationToken\" ></input>\n\n\t<input type=\"submit\" name=\"\" ></input>\n</form>\n\n____________________\n____________________\n\n|\n\n(Page Url = http://www.atriya.com/Blog/CategoryDetails/%D8%A2%D9%85%D9%88%D8%B2%D8%B4-asp-net-core-mvc)\n\n<form method=\"post\" action=\"http://www.atriya.com/Home/Contact\">\n\t<input type=\"text\" name=\"Fullname\" placeholder=\"نام\" required ></input>\n\t<input type=\"text\" name=\"Mobile\" placeholder=\"شماره موبایل\" required ></input>\n\t<input type=\"hidden\" name=\"__RequestVerificationToken\" ></input>\n\n\t<input type=\"submit\" name=\"\" ></input>\n</form>\n\n____________________\n____________________\n\n|\n\n(Page Url = http://www.atriya.com/Blog/CategoryDetails/%D8%A2%D9%85%D9%88%D8%B2%D8%B4-java)\n\n<form method=\"post\" action=\"http://www.atriya.com/Home/Contact\">\n\t<input type=\"text\" name=\"Fullname\" placeholder=\"نام\" required ></input>\n\t<input type=\"text\" name=\"Mobile\" placeholder=\"شماره موبایل\" required ></input>\n\t<input type=\"hidden\" name=\"__RequestVerificationToken\" ></input>\n\n\t<input type=\"submit\" name=\"\" ></input>\n</form>\n\n____________________\n____________________\n\n|\n\n(Page Url = http://www.atriya.com/Blog/CategoryDetails/%D8%A2%D9%85%D9%88%D8%B2%D8%B4-css)\n\n<form method=\"post\" action=\"http://www.atriya.com/Home/Contact\">\n\t<input type=\"text\" name=\"Fullname\" placeholder=\"نام\" required ></input>\n\t<input type=\"text\" name=\"Mobile\" placeholder=\"شماره موبایل\" required ></input>\n\t<input type=\"hidden\" name=\"__RequestVerificationToken\" ></input>\n\n\t<input type=\"submit\" name=\"\" ></input>\n</form>\n\n____________________\n____________________\n\n|\n\n(Page Url = http://www.atriya.com/Blog/CategoryDetails/%D8%A2%D9%85%D9%88%D8%B2%D8%B4-%D8%AC%D8%A7%D9%88%D8%A7%D8%A7%D8%B3%DA%A9%D8%B1%DB%8C%D9%BE%D8%AA)\n\n<form method=\"post\" action=\"http://www.atriya.com/Home/Contact\">\n\t<input type=\"text\" name=\"Fullname\" placeholder=\"نام\" required ></input>\n\t<input type=\"text\" name=\"Mobile\" placeholder=\"شماره موبایل\" required ></input>\n\t<input type=\"hidden\" name=\"__RequestVerificationToken\" ></input>\n\n\t<input type=\"submit\" name=\"\" ></input>\n</form>\n\n____________________\n____________________\n\n|\n\n(Page Url = http://www.atriya.com/Package/Details/%D8%A2%D9%85%D9%88%D8%B2%D8%B4-entity-framework-core)\n\n<form method=\"post\" action=\"http://www.atriya.com/Package/AddComment\">\n\t<input type=\"text\" name=\"name\" placeholder=\"نام و نام خانوادگی\" required ></input>\n\t<input type=\"text\" name=\"number\" placeholder=\"موبایل\" required ></input>\n\t<input type=\"hidden\" name=\"ParentId\" ></input>\n\t<input type=\"hidden\" name=\"OwnerRecordId\" ></input>\n\t<input type=\"hidden\" name=\"OwnerRecordSlug\" ></input>\n\t<input type=\"hidden\" name=\"__RequestVerificationToken\" ></input>\n\n\tNone\n</form>\n\n(Page Url = http://www.atriya.com/Package/Details/%D8%A2%D9%85%D9%88%D8%B2%D8%B4-entity-framework-core)\n\n<form method=\"post\" action=\"http://www.atriya.com/Home/Contact\">\n\t<input type=\"text\" name=\"Fullname\" placeholder=\"نام\" required ></input>\n\t<input type=\"text\" name=\"Mobile\" placeholder=\"شماره موبایل\" required ></input>\n\t<input type=\"hidden\" name=\"__RequestVerificationToken\" ></input>\n\n\t<input type=\"submit\" name=\"\" ></input>\n</form>\n\n____________________\n____________________\n\n|\n\n(Page Url = http://www.atriya.com/Package/Details/%D8%A2%D9%85%D9%88%D8%B2%D8%B4-%D9%85%D8%B9%D9%85%D8%A7%D8%B1%DB%8C-%D9%BE%DB%8C%D8%A7%D8%B2-onion-architecture)\n\n<form method=\"post\" action=\"http://www.atriya.com/Package/AddComment\">\n\t<input type=\"text\" name=\"name\" placeholder=\"نام و نام خانوادگی\" required ></input>\n\t<input type=\"text\" name=\"number\" placeholder=\"موبایل\" required ></input>\n\t<input type=\"hidden\" name=\"ParentId\" ></input>\n\t<input type=\"hidden\" name=\"OwnerRecordId\" ></input>\n\t<input type=\"hidden\" name=\"OwnerRecordSlug\" ></input>\n\t<input type=\"hidden\" name=\"__RequestVerificationToken\" ></input>\n\n\tNone\n</form>\n\n(Page Url = http://www.atriya.com/Package/Details/%D8%A2%D9%85%D9%88%D8%B2%D8%B4-%D9%85%D8%B9%D9%85%D8%A7%D8%B1%DB%8C-%D9%BE%DB%8C%D8%A7%D8%B2-onion-architecture)\n\n<form method=\"post\" action=\"http://www.atriya.com/Home/Contact\">\n\t<input type=\"text\" name=\"Fullname\" placeholder=\"نام\" required ></input>\n\t<input type=\"text\" name=\"Mobile\" placeholder=\"شماره موبایل\" required ></input>\n\t<input type=\"hidden\" name=\"__RequestVerificationToken\" ></input>\n\n\t<input type=\"submit\" name=\"\" ></input>\n</form>\n\n____________________\n____________________\n\n|\n\n(Page Url = http://www.atriya.com/Package/Details/%D8%AF%D9%88%D8%B1%D9%87-%D8%A2%D9%85%D9%88%D8%B2%D8%B4-Git-%D9%88-Github)\n\n<form method=\"post\" action=\"http://www.atriya.com/Package/AddComment\">\n\t<input type=\"text\" name=\"name\" placeholder=\"نام و نام خانوادگی\" required ></input>\n\t<input type=\"text\" name=\"number\" placeholder=\"موبایل\" required ></input>\n\t<input type=\"hidden\" name=\"ParentId\" ></input>\n\t<input type=\"hidden\" name=\"OwnerRecordId\" ></input>\n\t<input type=\"hidden\" name=\"OwnerRecordSlug\" ></input>\n\t<input type=\"hidden\" name=\"__RequestVerificationToken\" ></input>\n\n\tNone\n</form>\n\n(Page Url = http://www.atriya.com/Package/Details/%D8%AF%D9%88%D8%B1%D9%87-%D8%A2%D9%85%D9%88%D8%B2%D8%B4-Git-%D9%88-Github)\n\n<form method=\"post\" action=\"http://www.atriya.com/Home/Contact\">\n\t<input type=\"text\" name=\"Fullname\" placeholder=\"نام\" required ></input>\n\t<input type=\"text\" name=\"Mobile\" placeholder=\"شماره موبایل\" required ></input>\n\t<input type=\"hidden\" name=\"__RequestVerificationToken\" ></input>\n\n\t<input type=\"submit\" name=\"\" ></input>\n</form>\n\n____________________\n____________________\n\n|\n\n(Page Url = http://www.atriya.com/Package/Details/%D8%A2%D9%85%D9%88%D8%B2%D8%B4-razor-pages-%D8%AF%D8%B1-asp-net-core)\n\n<form method=\"post\" action=\"http://www.atriya.com/Package/AddComment\">\n\t<input type=\"text\" name=\"name\" placeholder=\"نام و نام خانوادگی\" required ></input>\n\t<input type=\"text\" name=\"number\" placeholder=\"موبایل\" required ></input>\n\t<input type=\"hidden\" name=\"ParentId\" ></input>\n\t<input type=\"hidden\" name=\"OwnerRecordId\" ></input>\n\t<input type=\"hidden\" name=\"OwnerRecordSlug\" ></input>\n\t<input type=\"hidden\" name=\"__RequestVerificationToken\" ></input>\n\n\tNone\n</form>\n\n(Page Url = http://www.atriya.com/Package/Details/%D8%A2%D9%85%D9%88%D8%B2%D8%B4-razor-pages-%D8%AF%D8%B1-asp-net-core)\n\n<form method=\"post\" action=\"http://www.atriya.com/Home/Contact\">\n\t<input type=\"text\" name=\"Fullname\" placeholder=\"نام\" required ></input>\n\t<input type=\"text\" name=\"Mobile\" placeholder=\"شماره موبایل\" required ></input>\n\t<input type=\"hidden\" name=\"__RequestVerificationToken\" ></input>\n\n\t<input type=\"submit\" name=\"\" ></input>\n</form>\n\n____________________\n____________________\n\n|\n\n(Page Url = http://www.atriya.com/Package/Details/%D8%A2%D9%85%D9%88%D8%B2%D8%B4-%D8%AA%D8%B3%D8%AA-%D9%86%D8%B1%D9%85-%D8%A7%D9%81%D8%B2%D8%A7%D8%B1-%D8%AA%D8%B3%D8%AA-%D8%A7%D8%AA%D9%88%D9%85%D8%A7%D8%AA%DB%8C%DA%A9-%D8%A8%D8%A7-TDD-BDD)\n\n<form method=\"post\" action=\"http://www.atriya.com/Package/AddComment\">\n\t<input type=\"text\" name=\"name\" placeholder=\"نام و نام خانوادگی\" required ></input>\n\t<input type=\"text\" name=\"number\" placeholder=\"موبایل\" required ></input>\n\t<input type=\"hidden\" name=\"ParentId\" ></input>\n\t<input type=\"hidden\" name=\"OwnerRecordId\" ></input>\n\t<input type=\"hidden\" name=\"OwnerRecordSlug\" ></input>\n\t<input type=\"hidden\" name=\"__RequestVerificationToken\" ></input>\n\n\tNone\n</form>\n\n(Page Url = http://www.atriya.com/Package/Details/%D8%A2%D9%85%D9%88%D8%B2%D8%B4-%D8%AA%D8%B3%D8%AA-%D9%86%D8%B1%D9%85-%D8%A7%D9%81%D8%B2%D8%A7%D8%B1-%D8%AA%D8%B3%D8%AA-%D8%A7%D8%AA%D9%88%D9%85%D8%A7%D8%AA%DB%8C%DA%A9-%D8%A8%D8%A7-TDD-BDD)\n\n<form method=\"post\" action=\"http://www.atriya.com/Home/Contact\">\n\t<input type=\"text\" name=\"Fullname\" placeholder=\"نام\" required ></input>\n\t<input type=\"text\" name=\"Mobile\" placeholder=\"شماره موبایل\" required ></input>\n\t<input type=\"hidden\" name=\"__RequestVerificationToken\" ></input>\n\n\t<input type=\"submit\" name=\"\" ></input>\n</form>\n\n____________________\n____________________\n\n|\n\n(Page Url = http://www.atriya.com/Course/CourseDetails/%D8%AF%D9%88%D8%B1%D9%87-%D8%A2%D9%85%D9%88%D8%B2%D8%B4%DB%8C-%D9%85%D8%B9%D9%85%D8%A7%D8%B1%DB%8C-%D9%86%D8%B1%D9%85-%D8%A7%D9%81%D8%B2%D8%A7%D8%B1%D9%87%D8%A7%DB%8C-enterprise-%D8%AF%D8%B1-%D8%AF%D8%A7%D8%AA-%D9%86%D8%AA)\n\n<form method=\"post\" action=\"http://www.atriya.com/Home/Contact\">\n\t<input type=\"text\" name=\"Fullname\" placeholder=\"نام\" required ></input>\n\t<input type=\"text\" name=\"Mobile\" placeholder=\"شماره موبایل\" required ></input>\n\t<input type=\"hidden\" name=\"__RequestVerificationToken\" ></input>\n\n\t<input type=\"submit\" name=\"\" ></input>\n</form>\n\n____________________\n____________________\n\n|\n\n(Page Url = http://www.atriya.com/Course/CourseDetails/%D8%AF%D9%88%D8%B1%D9%87-%D8%A2%D9%85%D9%88%D8%B2%D8%B4-%D8%AC%D8%A7%D9%85%D8%B9-asp-net-core-web-api-%D9%88-angular)\n\n<form method=\"post\" action=\"http://www.atriya.com/Home/Contact\">\n\t<input type=\"text\" name=\"Fullname\" placeholder=\"نام\" required ></input>\n\t<input type=\"text\" name=\"Mobile\" placeholder=\"شماره موبایل\" required ></input>\n\t<input type=\"hidden\" name=\"__RequestVerificationToken\" ></input>\n\n\t<input type=\"submit\" name=\"\" ></input>\n</form>\n\n____________________\n____________________\n\n|\n\n(Page Url = http://www.atriya.com/Course/CourseDetails/%D8%A7%D8%B5%D9%88%D9%84-%D9%88-%D8%A7%D9%84%DA%AF%D9%88%D9%87%D8%A7%DB%8C-%D8%B7%D8%B1%D8%A7%D8%AD%DB%8C-%D8%B4%DB%8C-%DA%AF%D8%B1%D8%A7-object-oriented-design-principles-patterns)\n\n<form method=\"post\" action=\"http://www.atriya.com/Home/Contact\">\n\t<input type=\"text\" name=\"Fullname\" placeholder=\"نام\" required ></input>\n\t<input type=\"text\" name=\"Mobile\" placeholder=\"شماره موبایل\" required ></input>\n\t<input type=\"hidden\" name=\"__RequestVerificationToken\" ></input>\n\n\t<input type=\"submit\" name=\"\" ></input>\n</form>\n\n____________________\n____________________\n\n|\n\n(Page Url = http://www.atriya.com/Course/CourseDetails/%D8%AF%D9%88%D8%B1%D9%87-%D8%A2%D9%85%D9%88%D8%B2%D8%B4%DB%8C-%D8%AA%D8%B3%D8%AA-%D9%86%D8%B1%D9%85-%D8%A7%D9%81%D8%B2%D8%A7%D8%B1-tdd-bdd)\n\n<form method=\"post\" action=\"http://www.atriya.com/Home/Contact\">\n\t<input type=\"text\" name=\"Fullname\" placeholder=\"نام\" required ></input>\n\t<input type=\"text\" name=\"Mobile\" placeholder=\"شماره موبایل\" required ></input>\n\t<input type=\"hidden\" name=\"__RequestVerificationToken\" ></input>\n\n\t<input type=\"submit\" name=\"\" ></input>\n</form>\n\n____________________\n____________________\n\n|\n\n(Page Url = http://www.atriya.com/Course/CourseDetails/%D8%AF%D9%88%D8%B1%D9%87-%D8%A2%D9%85%D9%88%D8%B2%D8%B4%DB%8C-%D8%B7%D8%B1%D8%A7%D8%AD%DB%8C-%D8%B3%D8%A7%DB%8C%D8%AA)\n\n<form method=\"post\" action=\"http://www.atriya.com/Home/Contact\">\n\t<input type=\"text\" name=\"Fullname\" placeholder=\"نام\" required ></input>\n\t<input type=\"text\" name=\"Mobile\" placeholder=\"شماره موبایل\" required ></input>\n\t<input type=\"hidden\" name=\"__RequestVerificationToken\" ></input>\n\n\t<input type=\"submit\" name=\"\" ></input>\n</form>\n\n____________________\n____________________\n\n|\n\n(Page Url = http://www.atriya.com/Course/CourseDetails/%D8%AF%D9%88%D8%B1%D9%87-%D8%A2%D9%85%D9%88%D8%B2%D8%B4%DB%8C-c)\n\n<form method=\"post\" action=\"http://www.atriya.com/Home/Contact\">\n\t<input type=\"text\" name=\"Fullname\" placeholder=\"نام\" required ></input>\n\t<input type=\"text\" name=\"Mobile\" placeholder=\"شماره موبایل\" required ></input>\n\t<input type=\"hidden\" name=\"__RequestVerificationToken\" ></input>\n\n\t<input type=\"submit\" name=\"\" ></input>\n</form>\n\n____________________\n"
     ]
    }
   ],
   "source": [
    "for webpage in webpages:\n",
    "    print(webpage)\n",
    "\n",
    "print('-'*50)\n",
    "\n",
    "for webpage in webpages:\n",
    "    if webpage.number_of_forms > 0:\n",
    "        print(webpage)\n",
    "\n",
    "# driver.quit()"
   ]
  },
  {
   "cell_type": "code",
   "execution_count": null,
   "metadata": {},
   "outputs": [],
   "source": []
  }
 ]
}