{
 "metadata": {
  "language_info": {
   "codemirror_mode": {
    "name": "ipython",
    "version": 3
   },
   "file_extension": ".py",
   "mimetype": "text/x-python",
   "name": "python",
   "nbconvert_exporter": "python",
   "pygments_lexer": "ipython3",
   "version": "3.9.5-final"
  },
  "orig_nbformat": 2,
  "kernelspec": {
   "name": "python39564bitautomatedwebsitefuzzytesterpipenv53fc7a26a87b459b977d893e2d43d489",
   "display_name": "Python 3.9.5 64-bit ('automated_website_fuzzy_tester': pipenv)"
  }
 },
 "nbformat": 4,
 "nbformat_minor": 2,
 "cells": [
  {
   "cell_type": "code",
   "execution_count": 40,
   "metadata": {},
   "outputs": [],
   "source": [
    "from selenium import webdriver\n",
    "from selenium.webdriver.common.keys import Keys\n",
    "from selenium.webdriver.common.desired_capabilities import DesiredCapabilities\n",
    "\n",
    "# with these settings, loading of a webpage would be faster.\n",
    "# because selenium won't wait for images to load and we don't need images.\n",
    "caps = DesiredCapabilities().CHROME\n",
    "caps[\"pageLoadStrategy\"] = \"eager\"\n",
    "\n",
    "# creating driver.\n",
    "driver = webdriver.Chrome(desired_capabilities=caps)"
   ]
  },
  {
   "cell_type": "code",
   "execution_count": 41,
   "metadata": {},
   "outputs": [
    {
     "output_type": "error",
     "ename": "WebDriverException",
     "evalue": "Message: unknown error: net::ERR_INTERNET_DISCONNECTED\n  (Session info: chrome=91.0.4472.106)\n",
     "traceback": [
      "\u001b[0;31m---------------------------------------------------------------------------\u001b[0m",
      "\u001b[0;31mWebDriverException\u001b[0m                        Traceback (most recent call last)",
      "\u001b[0;32m<ipython-input-41-26bcada91f58>\u001b[0m in \u001b[0;36m<module>\u001b[0;34m\u001b[0m\n\u001b[0;32m----> 1\u001b[0;31m \u001b[0mdriver\u001b[0m\u001b[0;34m.\u001b[0m\u001b[0mget\u001b[0m\u001b[0;34m(\u001b[0m\u001b[0;34m'http://www.atriya.com/Account'\u001b[0m\u001b[0;34m)\u001b[0m\u001b[0;34m\u001b[0m\u001b[0;34m\u001b[0m\u001b[0m\n\u001b[0m",
      "\u001b[0;32m~/.local/share/virtualenvs/automated_website_fuzzy_tester-VRPpPoe_/lib/python3.9/site-packages/selenium/webdriver/remote/webdriver.py\u001b[0m in \u001b[0;36mget\u001b[0;34m(self, url)\u001b[0m\n\u001b[1;32m    331\u001b[0m         \u001b[0mLoads\u001b[0m \u001b[0ma\u001b[0m \u001b[0mweb\u001b[0m \u001b[0mpage\u001b[0m \u001b[0;32min\u001b[0m \u001b[0mthe\u001b[0m \u001b[0mcurrent\u001b[0m \u001b[0mbrowser\u001b[0m \u001b[0msession\u001b[0m\u001b[0;34m.\u001b[0m\u001b[0;34m\u001b[0m\u001b[0;34m\u001b[0m\u001b[0m\n\u001b[1;32m    332\u001b[0m         \"\"\"\n\u001b[0;32m--> 333\u001b[0;31m         \u001b[0mself\u001b[0m\u001b[0;34m.\u001b[0m\u001b[0mexecute\u001b[0m\u001b[0;34m(\u001b[0m\u001b[0mCommand\u001b[0m\u001b[0;34m.\u001b[0m\u001b[0mGET\u001b[0m\u001b[0;34m,\u001b[0m \u001b[0;34m{\u001b[0m\u001b[0;34m'url'\u001b[0m\u001b[0;34m:\u001b[0m \u001b[0murl\u001b[0m\u001b[0;34m}\u001b[0m\u001b[0;34m)\u001b[0m\u001b[0;34m\u001b[0m\u001b[0;34m\u001b[0m\u001b[0m\n\u001b[0m\u001b[1;32m    334\u001b[0m \u001b[0;34m\u001b[0m\u001b[0m\n\u001b[1;32m    335\u001b[0m     \u001b[0;34m@\u001b[0m\u001b[0mproperty\u001b[0m\u001b[0;34m\u001b[0m\u001b[0;34m\u001b[0m\u001b[0m\n",
      "\u001b[0;32m~/.local/share/virtualenvs/automated_website_fuzzy_tester-VRPpPoe_/lib/python3.9/site-packages/selenium/webdriver/remote/webdriver.py\u001b[0m in \u001b[0;36mexecute\u001b[0;34m(self, driver_command, params)\u001b[0m\n\u001b[1;32m    319\u001b[0m         \u001b[0mresponse\u001b[0m \u001b[0;34m=\u001b[0m \u001b[0mself\u001b[0m\u001b[0;34m.\u001b[0m\u001b[0mcommand_executor\u001b[0m\u001b[0;34m.\u001b[0m\u001b[0mexecute\u001b[0m\u001b[0;34m(\u001b[0m\u001b[0mdriver_command\u001b[0m\u001b[0;34m,\u001b[0m \u001b[0mparams\u001b[0m\u001b[0;34m)\u001b[0m\u001b[0;34m\u001b[0m\u001b[0;34m\u001b[0m\u001b[0m\n\u001b[1;32m    320\u001b[0m         \u001b[0;32mif\u001b[0m \u001b[0mresponse\u001b[0m\u001b[0;34m:\u001b[0m\u001b[0;34m\u001b[0m\u001b[0;34m\u001b[0m\u001b[0m\n\u001b[0;32m--> 321\u001b[0;31m             \u001b[0mself\u001b[0m\u001b[0;34m.\u001b[0m\u001b[0merror_handler\u001b[0m\u001b[0;34m.\u001b[0m\u001b[0mcheck_response\u001b[0m\u001b[0;34m(\u001b[0m\u001b[0mresponse\u001b[0m\u001b[0;34m)\u001b[0m\u001b[0;34m\u001b[0m\u001b[0;34m\u001b[0m\u001b[0m\n\u001b[0m\u001b[1;32m    322\u001b[0m             response['value'] = self._unwrap_value(\n\u001b[1;32m    323\u001b[0m                 response.get('value', None))\n",
      "\u001b[0;32m~/.local/share/virtualenvs/automated_website_fuzzy_tester-VRPpPoe_/lib/python3.9/site-packages/selenium/webdriver/remote/errorhandler.py\u001b[0m in \u001b[0;36mcheck_response\u001b[0;34m(self, response)\u001b[0m\n\u001b[1;32m    240\u001b[0m                 \u001b[0malert_text\u001b[0m \u001b[0;34m=\u001b[0m \u001b[0mvalue\u001b[0m\u001b[0;34m[\u001b[0m\u001b[0;34m'alert'\u001b[0m\u001b[0;34m]\u001b[0m\u001b[0;34m.\u001b[0m\u001b[0mget\u001b[0m\u001b[0;34m(\u001b[0m\u001b[0;34m'text'\u001b[0m\u001b[0;34m)\u001b[0m\u001b[0;34m\u001b[0m\u001b[0;34m\u001b[0m\u001b[0m\n\u001b[1;32m    241\u001b[0m             \u001b[0;32mraise\u001b[0m \u001b[0mexception_class\u001b[0m\u001b[0;34m(\u001b[0m\u001b[0mmessage\u001b[0m\u001b[0;34m,\u001b[0m \u001b[0mscreen\u001b[0m\u001b[0;34m,\u001b[0m \u001b[0mstacktrace\u001b[0m\u001b[0;34m,\u001b[0m \u001b[0malert_text\u001b[0m\u001b[0;34m)\u001b[0m\u001b[0;34m\u001b[0m\u001b[0;34m\u001b[0m\u001b[0m\n\u001b[0;32m--> 242\u001b[0;31m         \u001b[0;32mraise\u001b[0m \u001b[0mexception_class\u001b[0m\u001b[0;34m(\u001b[0m\u001b[0mmessage\u001b[0m\u001b[0;34m,\u001b[0m \u001b[0mscreen\u001b[0m\u001b[0;34m,\u001b[0m \u001b[0mstacktrace\u001b[0m\u001b[0;34m)\u001b[0m\u001b[0;34m\u001b[0m\u001b[0;34m\u001b[0m\u001b[0m\n\u001b[0m\u001b[1;32m    243\u001b[0m \u001b[0;34m\u001b[0m\u001b[0m\n\u001b[1;32m    244\u001b[0m     \u001b[0;32mdef\u001b[0m \u001b[0m_value_or_default\u001b[0m\u001b[0;34m(\u001b[0m\u001b[0mself\u001b[0m\u001b[0;34m,\u001b[0m \u001b[0mobj\u001b[0m\u001b[0;34m,\u001b[0m \u001b[0mkey\u001b[0m\u001b[0;34m,\u001b[0m \u001b[0mdefault\u001b[0m\u001b[0;34m)\u001b[0m\u001b[0;34m:\u001b[0m\u001b[0;34m\u001b[0m\u001b[0;34m\u001b[0m\u001b[0m\n",
      "\u001b[0;31mWebDriverException\u001b[0m: Message: unknown error: net::ERR_INTERNET_DISCONNECTED\n  (Session info: chrome=91.0.4472.106)\n"
     ]
    }
   ],
   "source": [
    "driver.get('http://www.atriya.com/Account')"
   ]
  },
  {
   "cell_type": "code",
   "execution_count": 3,
   "metadata": {},
   "outputs": [],
   "source": [
    "from collect_all_website_urls import find_all_urls_of_website"
   ]
  },
  {
   "cell_type": "code",
   "execution_count": 11,
   "metadata": {},
   "outputs": [
    {
     "output_type": "execute_result",
     "data": {
      "text/plain": [
       "39"
      ]
     },
     "metadata": {},
     "execution_count": 11
    }
   ],
   "source": [
    "all_found_urls = []\n",
    "\n",
    "with open('all_explored_urls.txt', 'r') as file:\n",
    "    all_found_urls = file.readlines()\n",
    "\n",
    "    all_found_urls = list(map(lambda url: url[:-1] if url[-1:] == '\\n' else url, all_found_urls))\n",
    "\n",
    "len(all_found_urls)"
   ]
  },
  {
   "cell_type": "code",
   "execution_count": 120,
   "metadata": {},
   "outputs": [],
   "source": [
    "from html_classes import Form, Input\n",
    "        "
   ]
  },
  {
   "cell_type": "code",
   "execution_count": 133,
   "metadata": {},
   "outputs": [],
   "source": [
    "def get_all_form_tags_on_url(url, driver):\n",
    "    \"\"\"\n",
    "    Get all <form> tags from the driver.\n",
    "    Returns all of them.\n",
    "    \"\"\"\n",
    "    driver.get(url)\n",
    "    elements = driver.find_elements_by_tag_name('form')\n",
    "    return elements"
   ]
  },
  {
   "cell_type": "code",
   "execution_count": 134,
   "metadata": {},
   "outputs": [],
   "source": [
    "page_url = 'http://www.atriya.com/Account'"
   ]
  },
  {
   "cell_type": "code",
   "execution_count": 223,
   "metadata": {},
   "outputs": [],
   "source": [
    "from selenium.common.exceptions import WebDriverException\n",
    "\n",
    "class WebPage:\n",
    "    driver = None\n",
    "\n",
    "    def __init__(self, page_url, driver=None):\n",
    "        self.page_url = page_url\n",
    "        self.forms = []\n",
    "        \n",
    "        if not self._is_driver_availabe():\n",
    "            WebPage.driver = driver\n",
    "\n",
    "\n",
    "        self._set_up_driver()\n",
    "        self._get_all_forms()\n",
    "\n",
    "    def _get_all_forms(self):\n",
    "        all_forms = get_all_form_tags_on_url(self.page_url, self.driver)\n",
    "        self.forms = [Form(page_url, form) for form in all_forms]\n",
    "\n",
    "    @property\n",
    "    def number_of_forms(self):\n",
    "        return len(self.forms)\n",
    "\n",
    "    def _is_driver_availabe(self):\n",
    "        if self.driver is None:\n",
    "            return False\n",
    "        try:\n",
    "            self.driver.title\n",
    "            return True\n",
    "        except WebDriverException:\n",
    "            return False\n",
    "\n",
    "    def _set_up_driver(self):\n",
    "        if not self._is_driver_availabe():\n",
    "            # don't wait for load of images.\n",
    "            caps = DesiredCapabilities().CHROME\n",
    "            caps[\"pageLoadStrategy\"] = \"eager\"\n",
    "\n",
    "            # creating driver.\n",
    "            WebPage.driver = webdriver.Chrome(desired_capabilities=caps)\n",
    "\n",
    "    def _delete_driver(self):\n",
    "        WebPage.driver.quit()\n",
    "\n",
    "    def __str__(self):\n",
    "        result = []\n",
    "        result.append('_'*20)\n",
    "        result.append('|')\n",
    "        for form in self.forms:\n",
    "            result.append(str(form))\n",
    "        result.append('_'*20)\n",
    "\n",
    "        return (os.linesep*2).join(result)\n",
    "\n"
   ]
  },
  {
   "cell_type": "code",
   "execution_count": 207,
   "metadata": {},
   "outputs": [],
   "source": [
    "def get_forms_of_all_pages_to_objs(all_urls, driver):\n",
    "    all_web_pages_objs = []\n",
    "    for url in all_urls:\n",
    "        all_web_pages_objs.append(WebPage(url, driver=driver))\n",
    "    \n",
    "    return all_web_pages_objs\n"
   ]
  },
  {
   "cell_type": "code",
   "execution_count": 224,
   "metadata": {},
   "outputs": [],
   "source": [
    "all_webpage_objs = get_forms_of_all_pages_to_objs(['http://www.atriya.com/Account'], driver)"
   ]
  },
  {
   "cell_type": "code",
   "execution_count": 220,
   "metadata": {},
   "outputs": [
    {
     "output_type": "stream",
     "name": "stdout",
     "text": [
      "____________________\n\n|\n\n(Page Url = http://www.atriya.com/Account)\n\n<form method=\"get\" action=\"https://www.google.com/search\">\n\t<input type=\"text\" name=\"q\" ></input>\n\t<input type=\"hidden\" name=\"source\" ></input>\n\t<input type=\"hidden\" name=\"ei\" ></input>\n\t<input type=\"hidden\" name=\"iflsig\" ></input>\n\n\t<input type=\"submit\" name=\"btnK\" ></input>\n</form>\n\n____________________\n"
     ]
    }
   ],
   "source": [
    "for webpage_obj in all_webpage_objs:\n",
    "    print(webpage_obj)"
   ]
  },
  {
   "cell_type": "code",
   "execution_count": 136,
   "metadata": {},
   "outputs": [],
   "source": [
    "def get_all_forms_obj_of_url(page_url, driver):\n",
    "    all_forms = get_all_form_tags_on_url(page_url, driver)\n",
    "\n",
    "    form_objs = [Form(single_form) for single_form in all_forms]\n",
    "\n",
    "    return form_objs\n"
   ]
  },
  {
   "cell_type": "code",
   "execution_count": 31,
   "metadata": {},
   "outputs": [
    {
     "output_type": "execute_result",
     "data": {
      "text/plain": [
       "'true'"
      ]
     },
     "metadata": {},
     "execution_count": 31
    }
   ],
   "source": [
    "all_forms[0].get_attribute('method')\n",
    "\n",
    "all_forms[0].get_attribute('action')\n",
    "\n",
    "all_forms[0].find_element_by_tag_name('input').get_attribute('name')\n",
    "\n",
    "all_forms[0].find_element_by_css_selector('input[type=submit]')\n",
    "\n",
    "all_forms[1].find_elements_by_tag_name('input')\n",
    "\n",
    "all_forms[0].find_element_by_tag_name('input').get_attribute('placeholder')\n",
    "\n",
    "all_forms[0].find_elements_by_tag_name('input')[1].get_attribute('required')\n",
    "\n"
   ]
  },
  {
   "cell_type": "code",
   "execution_count": 9,
   "metadata": {},
   "outputs": [],
   "source": [
    "# dir(all_forms[0])"
   ]
  },
  {
   "cell_type": "code",
   "execution_count": 39,
   "metadata": {},
   "outputs": [],
   "source": [
    "# def custom():\n",
    "#     return \\\n",
    "#     \"\"\"\n",
    "#     hi \n",
    "#     hello\n",
    "#     \"\"\"\n",
    "\n",
    "# # import os\n",
    "# # print(os.linesep.join(custom().split('\\n')))\n",
    "# print(custom())"
   ]
  },
  {
   "cell_type": "code",
   "execution_count": null,
   "metadata": {},
   "outputs": [],
   "source": []
  }
 ]
}