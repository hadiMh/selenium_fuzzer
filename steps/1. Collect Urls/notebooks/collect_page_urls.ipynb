{
 "metadata": {
  "language_info": {
   "codemirror_mode": {
    "name": "ipython",
    "version": 3
   },
   "file_extension": ".py",
   "mimetype": "text/x-python",
   "name": "python",
   "nbconvert_exporter": "python",
   "pygments_lexer": "ipython3",
   "version": "3.9.5-final"
  },
  "orig_nbformat": 2,
  "kernelspec": {
   "name": "python39564bitautomatedwebsitefuzzytesterpipenv53fc7a26a87b459b977d893e2d43d489",
   "display_name": "Python 3.9.5 64-bit ('automated_website_fuzzy_tester': pipenv)"
  }
 },
 "nbformat": 4,
 "nbformat_minor": 2,
 "cells": [
  {
   "cell_type": "code",
   "execution_count": 39,
   "metadata": {},
   "outputs": [],
   "source": [
    "from selenium import webdriver\n",
    "from selenium.webdriver.common.keys import Keys\n",
    "\n",
    "driver = webdriver.Chrome('../../../chrome_driver/chromedriver')"
   ]
  },
  {
   "cell_type": "code",
   "execution_count": 40,
   "metadata": {},
   "outputs": [],
   "source": [
    "main_url = 'python.org'\n",
    "\n",
    "driver.get(f'http://www.{main_url}')"
   ]
  },
  {
   "cell_type": "code",
   "execution_count": 42,
   "metadata": {},
   "outputs": [
    {
     "output_type": "stream",
     "name": "stdout",
     "text": [
      "There are 186 <a> tags on this page.\n"
     ]
    }
   ],
   "source": [
    "def get_all_a_tags_on_this_page(driver):\n",
    "    elements = driver.find_elements_by_tag_name('a')\n",
    "    return elements\n",
    "\n",
    "a_elements = get_all_a_tags_on_this_page(driver)\n",
    "\n",
    "print(f'There are {len(a_elements)} <a> tags on this page.')"
   ]
  },
  {
   "cell_type": "code",
   "execution_count": 43,
   "metadata": {},
   "outputs": [
    {
     "output_type": "stream",
     "name": "stdout",
     "text": [
      "Number of links in this page: 185\n"
     ]
    }
   ],
   "source": [
    "def get_all_href_from_a_elements(a_elements):\n",
    "    href_addrs = list(map(lambda el: el.get_attribute('href'), a_elements))\n",
    "\n",
    "    # and (('http' in url) or ('https' in url) or ('www' in url)\n",
    "    http_https_www_urls = list(filter(lambda url: url is not None, href_addrs))\n",
    "\n",
    "    return http_https_www_urls\n",
    "\n",
    "urls = get_all_href_from_a_elements(a_elements)\n",
    "\n",
    "# number of links in this page\n",
    "print('Number of links in this page:', len(urls))"
   ]
  },
  {
   "cell_type": "code",
   "execution_count": 44,
   "metadata": {},
   "outputs": [
    {
     "output_type": "execute_result",
     "data": {
      "text/plain": [
       "0"
      ]
     },
     "metadata": {},
     "execution_count": 44
    }
   ],
   "source": [
    "def filter_only_urls_of_this_website(urls, main_url):\n",
    "    return list(filter(lambda url: (f'.{main_url}' in url) or (f'/{main_url}' in url), urls))\n",
    "\n",
    "main_urls = filter_only_urls_of_this_website(urls, main_url)\n",
    "len(main_urls)"
   ]
  },
  {
   "cell_type": "code",
   "execution_count": 45,
   "metadata": {},
   "outputs": [
    {
     "output_type": "execute_result",
     "data": {
      "text/plain": [
       "0"
      ]
     },
     "metadata": {},
     "execution_count": 45
    }
   ],
   "source": [
    "all_unique_urls = list(set(main_urls))\n",
    "len(all_unique_urls)"
   ]
  },
  {
   "cell_type": "code",
   "execution_count": 46,
   "metadata": {
    "tags": []
   },
   "outputs": [
    {
     "output_type": "execute_result",
     "data": {
      "text/plain": [
       "0"
      ]
     },
     "metadata": {},
     "execution_count": 46
    }
   ],
   "source": [
    "def remove_hashtag_from_urls(list_of_urls):\n",
    "    final_urls = []\n",
    "    for i, url in enumerate(list_of_urls):\n",
    "        sharp_i = url.rfind('#')\n",
    "        last_slash_i = url.rfind('/')\n",
    "        if sharp_i == -1:\n",
    "            final_urls.append(url)\n",
    "        if sharp_i > last_slash_i:\n",
    "            final_urls.append(url[:sharp_i])\n",
    "\n",
    "    return list(set(final_urls))\n",
    "\n",
    "without_hashtag_urls = remove_hashtag_from_urls(all_unique_urls)\n",
    "len(without_hashtag_urls)"
   ]
  },
  {
   "cell_type": "code",
   "execution_count": 47,
   "metadata": {},
   "outputs": [],
   "source": [
    "def find_all_final_urls(website_url, driver):\n",
    "    \"\"\"Find all unique links in a webpage.\"\"\"\n",
    "\n",
    "    driver.get(f'http://www.{website_url}')\n",
    "    a_elements = get_all_a_tags_on_this_page(driver)\n",
    "    print(f'There are {len(a_elements)} <a> tags on this page.')\n",
    "    urls = get_all_href_from_a_elements(a_elements)\n",
    "    # print(urls)\n",
    "    main_urls = filter_only_urls_of_this_website(urls, website_url)\n",
    "    print(f'{len(main_urls)} urls are Inside urls.')\n",
    "    all_unique_urls = list(set(main_urls))\n",
    "    print(f'{len(main_urls) - len(all_unique_urls)} where duplicate')\n",
    "    without_hashtag_urls = remove_hashtag_from_urls(all_unique_urls)\n",
    "    print(f'{len(all_unique_urls) - len(without_hashtag_urls)} has # and are duplicates.')\n",
    "    print(f'Final result: total pure links = {len(without_hashtag_urls)}')\n",
    "    return without_hashtag_urls\n",
    "\n",
    "# find_all_final_urls(main_url, driver)"
   ]
  },
  {
   "cell_type": "code",
   "execution_count": 48,
   "metadata": {},
   "outputs": [
    {
     "output_type": "stream",
     "name": "stdout",
     "text": [
      "There are 186 <a> tags on this page.\n",
      "153 urls are Inside urls.\n",
      "40 where duplicate\n",
      "0 has # and are duplicates.\n",
      "Final result: total pure links = 113\n",
      "<class 'str'>\n"
     ]
    }
   ],
   "source": [
    "a = find_all_final_urls('iut.ac.ir', driver)\n",
    "print(type(a[0]))"
   ]
  },
  {
   "cell_type": "code",
   "execution_count": 49,
   "metadata": {},
   "outputs": [
    {
     "output_type": "execute_result",
     "data": {
      "text/plain": [
       "['http://materials.iut.ac.ir/',\n",
       " 'http://news.iut.ac.ir/',\n",
       " 'http://kharazmi.iut.ac.ir/',\n",
       " 'http://subseard.iut.ac.ir/',\n",
       " 'http://eos.iut.ac.ir/',\n",
       " 'https://tr.iut.ac.ir/',\n",
       " 'http://ece.iut.ac.ir/',\n",
       " 'http://news.iut.ac.ir/node/30648',\n",
       " 'https://president.iut.ac.ir/',\n",
       " 'http://budgetoffice.iut.ac.ir/',\n",
       " 'https://avionics.iut.ac.ir/',\n",
       " 'https://fav.iut.ac.ir/fa',\n",
       " 'https://tasisat.iut.ac.ir/',\n",
       " 'http://phonebook.iut.ac.ir/',\n",
       " 'http://mail.iut.ac.ir/',\n",
       " 'https://studentaffairs.iut.ac.ir/',\n",
       " 'https://moghararat.iut.ac.ir/',\n",
       " 'http://library.iut.ac.ir/',\n",
       " 'http://news.iut.ac.ir/node/30610',\n",
       " 'http://sensor.iut.ac.ir/',\n",
       " 'http://news.iut.ac.ir/node/30633',\n",
       " 'http://indust.iut.ac.ir/',\n",
       " 'https://centlab.iut.ac.ir/',\n",
       " 'http://natres.iut.ac.ir/',\n",
       " 'http://chem.iut.ac.ir/',\n",
       " 'https://clinic.iut.ac.ir/',\n",
       " 'http://boostan.iut.ac.ir/',\n",
       " 'https://news.iut.ac.ir/iut-honors',\n",
       " 'http://basijasatid.iut.ac.ir/',\n",
       " 'https://iut.ac.ir/fa/contact-us',\n",
       " 'http://rimanah.iut.ac.ir/en',\n",
       " 'https://ets-trainingcenter.iut.ac.ir/',\n",
       " 'https://heyat.iut.ac.ir/fa',\n",
       " 'https://news.iut.ac.ir/news-archive',\n",
       " 'http://golestan.iut.ac.ir/',\n",
       " 'https://lawoffice.iut.ac.ir/',\n",
       " 'http://ibb.iut.ac.ir/',\n",
       " 'http://techoffice.iut.ac.ir/',\n",
       " 'https://daneshamooz.iut.ac.ir/',\n",
       " 'https://www.iut.ac.ir/fa',\n",
       " 'http://news.iut.ac.ir/node/30640',\n",
       " 'http://mining.iut.ac.ir/',\n",
       " 'http://mech.iut.ac.ir/',\n",
       " 'https://vp-studentaffairs.iut.ac.ir/',\n",
       " 'http://news.iut.ac.ir/node/30637',\n",
       " 'http://links.iut.ac.ir/',\n",
       " 'http://lib.iut.ac.ir/',\n",
       " 'https://golestan.iut.ac.ir/home/Default.htm',\n",
       " 'http://natres.iut.ac.ir/fa/lab/3304',\n",
       " 'https://karafarini.iut.ac.ir/',\n",
       " 'http://id.iut.ac.ir/',\n",
       " 'http://iutbox.iut.ac.ir/',\n",
       " 'http://nanotech.iut.ac.ir/',\n",
       " 'https://iut.ac.ir/awards',\n",
       " 'http://textile.iut.ac.ir/',\n",
       " 'https://innotech.iut.ac.ir/',\n",
       " 'https://amoozesh.iut.ac.ir/',\n",
       " 'https://journals.iut.ac.ir/',\n",
       " 'https://it.iut.ac.ir/',\n",
       " 'https://cso.iut.ac.ir/',\n",
       " 'http://iut.ac.ir/research_centers',\n",
       " 'http://news.iut.ac.ir/node/30645',\n",
       " 'http://news.iut.ac.ir/node/30642',\n",
       " 'https://src.iut.ac.ir/',\n",
       " 'https://opeeq.iut.ac.ir/',\n",
       " 'https://cert.iut.ac.ir/',\n",
       " 'https://iscoweb.iut.ac.ir/en',\n",
       " 'http://che.iut.ac.ir/',\n",
       " 'http://civil.iut.ac.ir/',\n",
       " 'https://www.iut.ac.ir/',\n",
       " 'http://che.iut.ac.ir/fa/lab/1967',\n",
       " 'http://it.iut.ac.ir/contact',\n",
       " 'http://agri.iut.ac.ir/',\n",
       " 'http://tkt.iut.ac.ir/',\n",
       " 'http://physics.iut.ac.ir/',\n",
       " 'https://research.iut.ac.ir/',\n",
       " 'https://pardis.iut.ac.ir/',\n",
       " 'https://strategic.iut.ac.ir/fa',\n",
       " 'https://news.iut.ac.ir/',\n",
       " 'http://news.iut.ac.ir/node/30643',\n",
       " 'https://bonyad.iut.ac.ir/',\n",
       " 'http://news.iut.ac.ir/node/30618',\n",
       " 'http://english.iut.ac.ir/',\n",
       " 'https://steel.iut.ac.ir/fa',\n",
       " 'http://news.iut.ac.ir/node/30638',\n",
       " 'http://mathdept.iut.ac.ir/',\n",
       " 'https://gso.iut.ac.ir/',\n",
       " 'https://lms.iut.ac.ir/',\n",
       " 'https://wwri.iut.ac.ir/',\n",
       " 'https://nhpcc.iut.ac.ir/',\n",
       " 'http://homa.iut.ac.ir/',\n",
       " 'https://learn.iut.ac.ir/',\n",
       " 'https://soilless.iut.ac.ir/',\n",
       " 'http://news.iut.ac.ir/node/30620',\n",
       " 'https://herasat.iut.ac.ir/',\n",
       " 'https://farhangi.iut.ac.ir/',\n",
       " 'http://news.iut.ac.ir/node/30644',\n",
       " 'http://news.iut.ac.ir/node/30646',\n",
       " 'https://pomebiotech.iut.ac.ir/fa',\n",
       " 'http://lms.iut.ac.ir/',\n",
       " 'http://materials.iut.ac.ir/fa/lab/2112',\n",
       " 'https://news.iut.ac.ir/archive-announcements',\n",
       " 'https://maaref.iut.ac.ir/',\n",
       " 'http://lib-pub.iut.ac.ir/',\n",
       " 'http://enlc.iut.ac.ir/',\n",
       " 'http://nst.iut.ac.ir/',\n",
       " 'https://tahsilat-takmili.iut.ac.ir/',\n",
       " 'http://news.iut.ac.ir/node/30639',\n",
       " 'https://fav.iut.ac.ir/fa/refah',\n",
       " 'http://news.iut.ac.ir/node/30647',\n",
       " 'http://news.iut.ac.ir/node/30623',\n",
       " 'https://physical-ed.iut.ac.ir/fa',\n",
       " 'https://evp.iut.ac.ir/']"
      ]
     },
     "metadata": {},
     "execution_count": 49
    }
   ],
   "source": [
    "a"
   ]
  },
  {
   "cell_type": "code",
   "execution_count": null,
   "metadata": {},
   "outputs": [],
   "source": []
  }
 ]
}